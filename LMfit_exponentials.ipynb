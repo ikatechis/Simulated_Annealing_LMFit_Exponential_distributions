{
 "cells": [
  {
   "cell_type": "markdown",
   "id": "ec185aa2-c59f-4801-aa52-cfd1abd2b54b",
   "metadata": {},
   "source": [
    "### Fitting exponential distributions with LMfit\n",
    "\n",
    "In this notebook we will simulate and fit exponential-decay distribution data with one or multiple exponentials.\n",
    "For the fit we will use the LMfit library and various optimization methods, especially dual annealing and LM algorithm as well as various objective functions like MSE or Maximum Likelihood."
   ]
  },
  {
   "cell_type": "code",
   "execution_count": 1,
   "id": "86c93e3e-adda-493e-81de-50174cca2cc4",
   "metadata": {},
   "outputs": [],
   "source": [
    "%load_ext autoreload\n",
    "%autoreload 2"
   ]
  },
  {
   "cell_type": "code",
   "execution_count": 2,
   "id": "3943b38a-0cdb-4adf-83d4-a0a04cba9f31",
   "metadata": {},
   "outputs": [],
   "source": [
    "import numpy as np\n",
    "import matplotlib.pyplot as plt\n",
    "import seaborn as sns\n",
    "import lmfit\n",
    "from exponential_distributions import exp1_dist, exp2_dist, exp3_dist, exp4_dist, LogLike"
   ]
  },
  {
   "cell_type": "markdown",
   "id": "57eb5e11-ef84-4cf2-a4d2-5347520d205c",
   "metadata": {},
   "source": [
    "## Single-Exponential Decay"
   ]
  },
  {
   "cell_type": "code",
   "execution_count": 21,
   "id": "2ad02d52-8c1c-424f-a69f-b61bb983428d",
   "metadata": {},
   "outputs": [],
   "source": [
    "# simulate single exponential decay data with tau=10\n",
    "tau_theory = 10\n",
    "exp1_data = np.random.exponential(scale=tau_theory, size=10000, )"
   ]
  },
  {
   "cell_type": "markdown",
   "id": "29203d78-c296-438b-a73c-468129af9544",
   "metadata": {
    "tags": []
   },
   "source": [
    "## Least-Squares Method\n",
    "\n",
    "Let's perform a simple Least-Squares curve fit using the Model class from lmfit. This fit can only be done on a residuals objective function so we have to bin the data and generate a curve"
   ]
  },
  {
   "cell_type": "code",
   "execution_count": 22,
   "id": "afbdcdf3-0640-41d7-81a5-1725bdd70d6b",
   "metadata": {},
   "outputs": [
    {
     "name": "stdout",
     "output_type": "stream",
     "text": [
      "parameter names: ['tau']\n",
      "independent variables: ['t']\n"
     ]
    }
   ],
   "source": [
    "from lmfit import Model\n",
    "exp1_model = Model(exp1_dist)\n",
    "print(f'parameter names: {exp1_model.param_names}')\n",
    "print(f'independent variables: {exp1_model.independent_vars}')\n",
    "\n",
    "params = exp1_model.make_params() # initialize the model parameters\n",
    "exp1_model.set_param_hint('tau', value=2, min=0.1, max=1000)"
   ]
  },
  {
   "cell_type": "code",
   "execution_count": 23,
   "id": "3f4e7a84-0fc6-4e82-9539-87b15b8475be",
   "metadata": {},
   "outputs": [],
   "source": [
    "# bin the data into a given number of bins\n",
    "values, bins = np.histogram(exp1_data, bins=20, range=(0, 30), density=True)\n",
    "centers = (bins[1:] + bins[:-1])/2"
   ]
  },
  {
   "cell_type": "code",
   "execution_count": 24,
   "id": "a74f55a1-6c1e-49b7-b728-a5c544940490",
   "metadata": {},
   "outputs": [
    {
     "name": "stdout",
     "output_type": "stream",
     "text": [
      "[[Model]]\n",
      "    Model(exp1_dist)\n",
      "[[Fit Statistics]]\n",
      "    # fitting method   = leastsq\n",
      "    # function evals   = 13\n",
      "    # data points      = 20\n",
      "    # variables        = 1\n",
      "    chi-square         = 8.8060e-05\n",
      "    reduced chi-square = 4.6347e-06\n",
      "    Akaike info crit   = -244.664567\n",
      "    Bayesian info crit = -243.668835\n",
      "[[Variables]]\n",
      "    tau:  9.28445645 +/- 0.15236113 (1.64%) (init = 2)\n"
     ]
    }
   ],
   "source": [
    "# Fit using the default Levenberg-Marquardt algorithm\n",
    "result = exp1_model.fit(values, t=centers)\n",
    "print(result.fit_report())"
   ]
  },
  {
   "cell_type": "code",
   "execution_count": 25,
   "id": "332bbf1c-e016-41f1-8ad0-db94596223ad",
   "metadata": {},
   "outputs": [
    {
     "name": "stdout",
     "output_type": "stream",
     "text": [
      "[[Model]]\n",
      "    Model(exp1_dist)\n",
      "[[Fit Statistics]]\n",
      "    # fitting method   = dual_annealing\n",
      "    # function evals   = 2043\n",
      "    # data points      = 20\n",
      "    # variables        = 1\n",
      "    chi-square         = 8.8060e-05\n",
      "    reduced chi-square = 4.6347e-06\n",
      "    Akaike info crit   = -244.664558\n",
      "    Bayesian info crit = -243.668826\n",
      "[[Variables]]\n",
      "    tau:  9.28402000 +/- 0.15031624 (1.62%) (init = 2)\n"
     ]
    }
   ],
   "source": [
    "# Fit using the dual_annealing algorithm from scipy\n",
    "result = exp1_model.fit(values, t=centers, method='dual_annealing')\n",
    "print(result.fit_report())"
   ]
  },
  {
   "cell_type": "code",
   "execution_count": 26,
   "id": "9eae083e-fc8c-4641-94ad-616d38c9c216",
   "metadata": {},
   "outputs": [
    {
     "data": {
      "image/png": "[encoded data removed]",
      "text/plain": [
       "<Figure size 432x288 with 1 Axes>"
      ]
     },
     "metadata": {
      "needs_background": "light"
     },
     "output_type": "display_data"
    }
   ],
   "source": [
    "plt.plot(centers, values, 'o')\n",
    "plt.plot(centers, result.init_fit, '--', label='initial fit')\n",
    "plt.plot(centers, result.best_fit, '-', label='best fit')\n",
    "plt.yscale('log')\n",
    "plt.legend()\n",
    "plt.show()"
   ]
  },
  {
   "cell_type": "markdown",
   "id": "45d5f8de-e8a4-47c1-b4e2-dec7331ec43c",
   "metadata": {},
   "source": [
    "## Maximum Likelihood Method\n",
    "\n",
    "### Single-exponential decay\n",
    "\n",
    "We will now use the Maximum Likelihood method to fit our data without the need to bin it. For this purpose we will use the Minimizer class of lmfit. \n",
    "\n",
    "But first let's inspect visually the log-likelihood for a single exponential and  calculate the exact minimization parameter which is simply the average of our exponential data"
   ]
  },
  {
   "cell_type": "code",
   "execution_count": null,
   "id": "a00f7926-92ce-4cb8-9603-d65d9b53b39c",
   "metadata": {},
   "outputs": [],
   "source": [
    "# Plot the log-likelihood for the exp1_dist model for various tau\n",
    "llikes = []\n",
    "tau_space = np.arange(0.1, 50, 0.01)\n",
    "for tau_t in tau_space:\n",
    "    llikes.append(LogLike([tau_t], exp1_dist, exp1_data))\n",
    "plt.plot(tau_space, llikes, label='log-likelihood')\n",
    "plt.ylabel('log-likelihood')\n",
    "plt.xlabel('tau')\n",
    "plt.legend()\n",
    "print('Minimum at tau =', tau_space[np.argmin(llikes)])\n",
    "print('data average:', np.average(exp1_data))"
   ]
  },
  {
   "cell_type": "markdown",
   "id": "54e5dc04-eba1-40e9-b770-6c519f495a4d",
   "metadata": {},
   "source": [
    "We can now use the Minimizer class and see if we arrive at the same result"
   ]
  },
  {
   "cell_type": "code",
   "execution_count": null,
   "id": "aaa8eb21-a5cb-4a00-beec-fb3ee5a06e26",
   "metadata": {},
   "outputs": [],
   "source": [
    "from lmfit import Minimizer, Parameter, Parameters\n",
    "\n",
    "tau_param = Parameter('tau', value=2, min=0.1, max=100)\n",
    "params = Parameters()\n",
    "params.add(tau_param)\n",
    "\n",
    "minim = Minimizer(LogLike, params, fcn_args=(exp1_dist, exp1_data))"
   ]
  },
  {
   "cell_type": "code",
   "execution_count": null,
   "id": "0fd47924-1a5c-44c5-9456-f74793d65fb4",
   "metadata": {},
   "outputs": [],
   "source": [
    "list(params.valuesdict().values())"
   ]
  },
  {
   "cell_type": "code",
   "execution_count": null,
   "id": "1b16f00a-8b9a-412c-a4f9-55e90e23b242",
   "metadata": {},
   "outputs": [],
   "source": [
    "res = minim.minimize(method='dual_annealing')\n",
    "print(lmfit.fit_report(res))"
   ]
  },
  {
   "cell_type": "markdown",
   "id": "6cd1e543-a6c3-4077-8084-303795c75981",
   "metadata": {},
   "source": [
    "### Double-exponential decay\n",
    "\n",
    "We can now generate some double-exponential data from a random distribution."
   ]
  },
  {
   "cell_type": "code",
   "execution_count": null,
   "id": "770afb65-9ce3-43c7-926d-8d5cf27e8bf8",
   "metadata": {},
   "outputs": [],
   "source": [
    "from scipy.stats import rv_continuous\n",
    "\n",
    "class exp2_gen(rv_continuous):\n",
    "\n",
    "    \"Double-Exponential Decay distribution\"\n",
    "\n",
    "    def _pdf(self, t, p, tau1, tau2):\n",
    "        \n",
    "        return p/tau1*np.exp(-t/tau1)+(1-p)/tau2*np.exp(-t/tau2)\n",
    "\n",
    "exp2_pdf = exp2_gen(name='double-exponential', a=0)"
   ]
  },
  {
   "cell_type": "code",
   "execution_count": null,
   "id": "bb0eae17-b59c-4f89-8beb-3dd44cbeff46",
   "metadata": {},
   "outputs": [],
   "source": [
    "p = 0.6\n",
    "tau1 = 1\n",
    "tau2 = 10\n",
    "# exp2_data = exp2_pdf.rvs(p, tau1, tau2, size=1000)"
   ]
  },
  {
   "cell_type": "code",
   "execution_count": null,
   "id": "591de0da-2606-46c2-a52f-1b0f9d22f50b",
   "metadata": {},
   "outputs": [],
   "source": [
    "from exponential_distributions import log_bin\n",
    "# cent_log, val_log = log_bin(exp2_data, bin_width=0.5)"
   ]
  },
  {
   "cell_type": "code",
   "execution_count": null,
   "id": "0db1342f-0eab-47af-b384-0667faadc5ad",
   "metadata": {},
   "outputs": [],
   "source": [
    "# another way before we plot them together\n",
    "def exp2_gen2(p, tau1, tau2, size=100):\n",
    "    np.random.seed(1)\n",
    "    s = np.random.random(size=size)\n",
    "    exp1 = np.random.exponential(scale=tau1, size=size)\n",
    "    exp2 = np.random.exponential(scale=tau2, size=size)\n",
    "    data = np.zeros(size)\n",
    "    from1 = np.where(s < p)\n",
    "    from2 = np.where(s >= p)\n",
    "    data[from1] = exp1[from1]\n",
    "    data[from2] = exp2[from2]\n",
    "    return data\n",
    "        \n",
    "    "
   ]
  },
  {
   "cell_type": "code",
   "execution_count": null,
   "id": "6f6f19a9-3a75-469b-9509-a93d94d537b2",
   "metadata": {},
   "outputs": [],
   "source": [
    "exp2_data2 = exp2_gen2(p, tau1, tau2, size=100)\n"
   ]
  },
  {
   "cell_type": "code",
   "execution_count": null,
   "id": "3de99664-ab5d-41c4-82a2-f4a2c360956a",
   "metadata": {},
   "outputs": [],
   "source": [
    "cent_log2, val_log2 = log_bin(exp2_data2, bin_width=0.5)\n",
    "plt.plot(cent_log2, val_log2)\n",
    "# plt.plot(cent_log, val_log)\n",
    "plt.xscale('log')\n",
    "plt.yscale('log')"
   ]
  },
  {
   "cell_type": "markdown",
   "id": "c037ff0c-0fc4-4933-8608-f11369468a28",
   "metadata": {},
   "source": [
    "#### Fit with `dual_annealing`"
   ]
  },
  {
   "cell_type": "code",
   "execution_count": null,
   "id": "1f3da8f7-3ffd-4341-834e-de49b2de8533",
   "metadata": {},
   "outputs": [],
   "source": [
    "params = Parameters()\n",
    "params.add('p', value=0.5, min=0, max=1)\n",
    "params.add('tau1', value=0.2, min=0.1, max=100)\n",
    "params.add('tau2', value=8, min=0.1, max=100)\n",
    "\n",
    "#Let's sample once again\n",
    "exp2_data2 = exp2_gen2(p, tau1, tau2, size=10000)\n",
    "exp2_data2 = exp2_data2[exp2_data2 > 0.1] # Discard the very small dwells so we don't get an error in the log\n",
    "\n",
    "minim = Minimizer(LogLike, params, fcn_args=(exp2_dist, exp2_data2))"
   ]
  },
  {
   "cell_type": "code",
   "execution_count": null,
   "id": "23e397ac-8a6e-44f4-a25a-31951345519b",
   "metadata": {},
   "outputs": [],
   "source": [
    "\n",
    "res = minim.minimize(method='dual_annealing')\n",
    "print(lmfit.fit_report(res))"
   ]
  },
  {
   "cell_type": "code",
   "execution_count": null,
   "id": "ed470026-c20f-45e3-9be1-ab178c29aa94",
   "metadata": {},
   "outputs": [],
   "source": [
    "# bin the data into normal scale\n",
    "values, bins = np.histogram(exp2_data2, bins=50, range=(0, 30), density=True)\n",
    "centers = (bins[1:] + bins[:-1])/2"
   ]
  },
  {
   "cell_type": "code",
   "execution_count": null,
   "id": "60e55e5b-911b-479c-bfa8-e7c53ecb0810",
   "metadata": {},
   "outputs": [],
   "source": [
    "# get the list of best optimal parameters\n",
    "pinit = list(params.valuesdict().values())\n",
    "popt = list(res.params.valuesdict().values())\n",
    "popt"
   ]
  },
  {
   "cell_type": "code",
   "execution_count": null,
   "id": "54f03312-77d9-4615-a865-ab2620521170",
   "metadata": {},
   "outputs": [],
   "source": [
    "plt.plot(centers, values, 'o')\n",
    "plt.plot(centers, exp2_dist(centers, *pinit), '--', label='initial fit')\n",
    "plt.plot(centers, exp2_dist(centers, *popt), '-', label='best fit')\n",
    "plt.yscale('log')\n",
    "plt.legend()\n",
    "plt.show()"
   ]
  },
  {
   "cell_type": "markdown",
   "id": "52161a25-fd4d-4dfc-99f6-0ff5d2689b25",
   "metadata": {},
   "source": [
    "### Generalize the exponential distribution generator to n exponentials"
   ]
  },
  {
   "cell_type": "code",
   "execution_count": null,
   "id": "77b8824c-3cb6-4510-a49a-7fdb252ed692",
   "metadata": {},
   "outputs": [],
   "source": [
    "def exp_gen(p, tau, size=100, seed=None):\n",
    "    \"\"\"Generate exponential decay random variables for a given number of exponentials.\n",
    "\n",
    "    Args:\n",
    "        p (list): The population ratio between the first n - 1 exponentials. sum(p) must be < 1.\n",
    "        tau (list): The lifetimes corresponding to the number of exponentials. Must be positive.\n",
    "\n",
    "    Returns:\n",
    "        A 1D ndarray of size `size`. The sample from the (multi)exponential decay prob. distribution\n",
    "        \n",
    "    Raises:\n",
    "        ValueError: if sum(p) > 1 or any element from tau < 0\n",
    "    \"\"\"\n",
    "    if type(p) != list or type(tau) != list or sum(p) > 1:\n",
    "        raise ValueError('p and tau must be of type list and sum(p) > 0')\n",
    "        \n",
    "    for t in tau:\n",
    "        if t < 0:\n",
    "            raise ValueError('All taus must be positive numbers')\n",
    "            \n",
    "    # Sort p in descending order\n",
    "    ps = p\n",
    "    ps.append(1 - sum(p)) # find the probability corresponding to the last tau\n",
    "    # Sort tau in the same order as p\n",
    "    taus = [x for _, x in sorted(zip(ps, tau), reverse=True)]\n",
    "    ps = sorted(ps, reverse=True)\n",
    "    \n",
    "    \n",
    "    if seed is not None:\n",
    "        np.random.seed(seed)\n",
    "        \n",
    "    s = np.random.random(size)\n",
    "    exp = np.zeros((len(taus), size))\n",
    "    \n",
    "    \n",
    "    for i, tt in enumerate(taus):\n",
    "        exp[i] = np.random.exponential(scale=tt, size=size)\n",
    "\n",
    "    data = np.zeros(size)\n",
    "    for i, pi in enumerate(ps):\n",
    "        \n",
    "        if i == 0:\n",
    "            idx = np.where(s < pi)\n",
    "            data[idx] = exp[i, idx]\n",
    "            \n",
    "        elif i == len(ps) - 1:\n",
    "            idx = np.where(s > sum(ps[:-1]))\n",
    "            data[idx] = exp[i, idx]\n",
    "            \n",
    "        else:\n",
    "            idx = np.where((s < sum(ps[:i+1])) & (s > sum(ps[:i])))\n",
    "            data[idx] = exp[i, idx]\n",
    "\n",
    "    return data"
   ]
  },
  {
   "cell_type": "markdown",
   "id": "4edcf812-e1c5-4301-904e-3c26fff62ad2",
   "metadata": {},
   "source": [
    "### Triple-exponential decay"
   ]
  },
  {
   "cell_type": "code",
   "execution_count": null,
   "id": "ee1b7625-2900-4e53-bb3a-d576bb038586",
   "metadata": {},
   "outputs": [],
   "source": [
    "data = exp_gen([0.3, 0.5], [1, 10, 100], size=10000)"
   ]
  },
  {
   "cell_type": "code",
   "execution_count": null,
   "id": "11733c02-c825-4d57-b890-128bd4f5ca1f",
   "metadata": {
    "tags": []
   },
   "outputs": [],
   "source": [
    "params = Parameters()\n",
    "\n",
    "params.add('p1', value=0.2, min=1e-6, max=1)\n",
    "params.add('p2', value=0.2, min=1e-6, max=1)\n",
    "\n",
    "\n",
    "params.add('tau1', value=0.2, min=0.1, max=100)\n",
    "params.add('tau2', value=7, min=0.1, max=1000)\n",
    "params.add('tau3', value=90, min=0.1, max=1000)\n",
    "\n",
    "\n",
    "data = data[data > 0.01] # Discard the very small dwells so we don't get an error in the log\n",
    "\n",
    "minim = Minimizer(LogLike, params, fcn_args=(exp3_dist, data))\n"
   ]
  },
  {
   "cell_type": "code",
   "execution_count": null,
   "id": "9af1df36-02b2-48ab-b29f-9f3375d6c6c8",
   "metadata": {},
   "outputs": [],
   "source": [
    "res = minim.minimize(method='dual_annealing')\n",
    "print(lmfit.fit_report(res))"
   ]
  },
  {
   "cell_type": "code",
   "execution_count": null,
   "id": "b0a4291f-94d1-4ed0-ab2b-b246df756ef8",
   "metadata": {},
   "outputs": [],
   "source": [
    "values, bins = np.histogram(data, bins=50, range=(0, 200), density=True)\n",
    "centers = (bins[1:] + bins[:-1])/2\n",
    "# get the list of best optimal parameters\n",
    "pinit = list(params.valuesdict().values())\n",
    "popt = list(res.params.valuesdict().values())\n",
    "\n",
    "plt.plot(centers, values, 'o')\n",
    "plt.plot(centers, exp3_dist(centers, *pinit), '--', label='initial fit')\n",
    "plt.plot(centers, exp3_dist(centers, *popt), '-', label='best fit')\n",
    "plt.yscale('log')\n",
    "plt.legend()\n",
    "plt.show()"
   ]
  },
  {
   "cell_type": "code",
   "execution_count": null,
   "id": "dbee9f16-bc2f-4347-995f-b8d433e4d20c",
   "metadata": {},
   "outputs": [],
   "source": [
    "plt.figure()\n",
    "cent, val = log_bin(data, bin_width=0.2)\n",
    "plt.plot(cent, exp3_dist(cent, *popt))\n",
    "plt.plot(cent, val, 'o')\n",
    "plt.xscale('log')\n",
    "plt.yscale('log')\n",
    "plt.xlim(0.1, 10000)"
   ]
  },
  {
   "cell_type": "markdown",
   "id": "ad0bfb96-8cd8-4f71-8cc1-ab60bbe704b6",
   "metadata": {},
   "source": [
    "### Four-exponential decay"
   ]
  },
  {
   "cell_type": "code",
   "execution_count": null,
   "id": "338620b1-c203-4927-bea5-f964a90e0eaf",
   "metadata": {},
   "outputs": [],
   "source": [
    "data4 = exp_gen([0.3, 0.2, 0.4], [1, 10, 100, 500], size=10000)"
   ]
  },
  {
   "cell_type": "code",
   "execution_count": null,
   "id": "81135eb3-2b9c-4cb7-a691-dfd9105ddd05",
   "metadata": {},
   "outputs": [],
   "source": [
    "params = Parameters()\n",
    "\n",
    "params.add('p1', value=0.2, min=1e-6, max=1)\n",
    "params.add('p2', value=0.2, min=1e-6, max=1)\n",
    "params.add('p3', value=0.2, min=1e-6, max=1)\n",
    "\n",
    "\n",
    "params.add('tau1', value=0.2, min=0.1, max=100)\n",
    "params.add('tau2', value=7, min=0.1, max=1000)\n",
    "params.add('tau3', value=90, min=0.1, max=1000)\n",
    "params.add('tau4', value=100, min=0.1, max=1000)\n",
    "\n",
    "\n",
    "\n",
    "data = data[data > 0.01] # Discard the very small dwells so we don't get an error in the log\n",
    "\n",
    "minim = Minimizer(LogLike, params, fcn_args=(exp4_dist, data))\n"
   ]
  },
  {
   "cell_type": "code",
   "execution_count": null,
   "id": "b4aa211b-db8c-4cc5-be49-a051707cd114",
   "metadata": {},
   "outputs": [],
   "source": [
    "res = minim.minimize(method='dual_annealing')\n",
    "print(lmfit.fit_report(res))"
   ]
  },
  {
   "cell_type": "code",
   "execution_count": null,
   "id": "b1778b8f-8980-452a-b5cd-f397cb5507b1",
   "metadata": {},
   "outputs": [],
   "source": [
    "# get the list of best optimal parameters\n",
    "pinit = list(params.valuesdict().values())\n",
    "popt = list(res.params.valuesdict().values())"
   ]
  },
  {
   "cell_type": "code",
   "execution_count": null,
   "id": "68aa26bd-39f2-44e8-bfd6-26ea9bc405e0",
   "metadata": {},
   "outputs": [],
   "source": [
    "plt.figure()\n",
    "cent, val = log_bin(data4, bin_width=0.2)\n",
    "plt.plot(cent, exp4_dist(cent, *popt))\n",
    "plt.plot(cent, val, 'o')\n",
    "plt.xscale('log')\n",
    "plt.yscale('log')\n",
    "plt.xlim(0.1, 10000)"
   ]
  },
  {
   "cell_type": "code",
   "execution_count": null,
   "id": "ad436d8a-cfc0-48ef-a553-2b902d10024b",
   "metadata": {},
   "outputs": [],
   "source": []
  },
  {
   "cell_type": "code",
   "execution_count": null,
   "id": "300e6f64-e8ea-4d52-b91c-11fa3fdfe25d",
   "metadata": {},
   "outputs": [],
   "source": []
  },
  {
   "cell_type": "code",
   "execution_count": null,
   "id": "a9dbb310-74fe-4297-a818-794f4edda9bd",
   "metadata": {},
   "outputs": [],
   "source": []
  }
 ],
 "metadata": {
  "kernelspec": {
   "display_name": "Python 3 (ipykernel)",
   "language": "python",
   "name": "python3"
  },
  "language_info": {
   "codemirror_mode": {
    "name": "ipython",
    "version": 3
   },
   "file_extension": ".py",
   "mimetype": "text/x-python",
   "name": "python",
   "nbconvert_exporter": "python",
   "pygments_lexer": "ipython3",
   "version": "3.9.7"
  }
 },
 "nbformat": 4,
 "nbformat_minor": 5
}
